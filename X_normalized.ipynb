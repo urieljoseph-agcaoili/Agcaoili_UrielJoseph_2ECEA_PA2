{
 "cells": [
  {
   "cell_type": "code",
   "execution_count": 1,
   "id": "8c132a6d",
   "metadata": {},
   "outputs": [
    {
     "name": "stdout",
     "output_type": "stream",
     "text": [
      "Normal Array: \n",
      " [[0.80420133 0.13370808 0.55657938 0.7774658  0.41003958]\n",
      " [0.47690677 0.55231141 0.67260019 0.70324233 0.1287753 ]\n",
      " [0.64330648 0.34946134 0.64882362 0.37218986 0.49715822]\n",
      " [0.77110092 0.94652015 0.47321554 0.73260247 0.0644011 ]\n",
      " [0.98752596 0.99865513 0.88740071 0.8189847  0.70497291]]\n",
      "Normalized Array: \n",
      " [[ 0.78129545 -1.84170425 -0.18741273  0.67670486 -0.760683  ]\n",
      " [-0.49909555 -0.20410922  0.26646588  0.38633932 -1.86100148]\n",
      " [ 0.15186757 -0.99766782  0.17345085 -0.90875281 -0.41987099]\n",
      " [ 0.65180515  1.33805305 -0.51353583  0.50119751 -2.11283626]\n",
      " [ 1.49846961  1.54200745  1.10677516  0.83912864  0.39310942]]\n"
     ]
    }
   ],
   "source": [
    "import numpy as np\n",
    "\n",
    "X = np.random.random((5,5))\n",
    "STD = X.std()\n",
    "M = X.mean()\n",
    "W = (X - M)\n",
    "Z = W/STD\n",
    "\n",
    "np.save(\"X_normalized.npy\", Z)\n",
    "\n",
    "print(\"Normal Array: \\n\", X)\n",
    "print(\"Normalized Array: \\n\", Z)"
   ]
  },
  {
   "cell_type": "code",
   "execution_count": null,
   "id": "91df1820",
   "metadata": {},
   "outputs": [],
   "source": []
  }
 ],
 "metadata": {
  "kernelspec": {
   "display_name": "Python 3 (ipykernel)",
   "language": "python",
   "name": "python3"
  },
  "language_info": {
   "codemirror_mode": {
    "name": "ipython",
    "version": 3
   },
   "file_extension": ".py",
   "mimetype": "text/x-python",
   "name": "python",
   "nbconvert_exporter": "python",
   "pygments_lexer": "ipython3",
   "version": "3.11.4"
  }
 },
 "nbformat": 4,
 "nbformat_minor": 5
}

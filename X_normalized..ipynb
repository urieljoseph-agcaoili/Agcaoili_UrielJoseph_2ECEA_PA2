{
 "cells": [
  {
   "cell_type": "code",
   "execution_count": 2,
   "id": "8c132a6d",
   "metadata": {},
   "outputs": [
    {
     "name": "stdout",
     "output_type": "stream",
     "text": [
      "Normal Array: \n",
      " [[0.97134394 0.2395621  0.65246572 0.74928949 0.31513171]\n",
      " [0.31919369 0.39500257 0.43330291 0.74809323 0.60970798]\n",
      " [0.63766971 0.46085859 0.339808   0.07846744 0.94636183]\n",
      " [0.27671399 0.10654254 0.84835254 0.03822058 0.90466887]\n",
      " [0.66584666 0.20252949 0.0197354  0.88753977 0.58461945]]\n",
      "Normalized Array: \n",
      " [[ 1.61248171 -0.87639793  0.52793784  0.85724734 -0.61937644]\n",
      " [-0.60556114 -0.34772586 -0.21746172  0.85317872  0.38251355]\n",
      " [ 0.47761482 -0.12374145 -0.53544933 -1.42430058  1.52751449]\n",
      " [-0.75003982 -1.32881374  1.19417291 -1.56118508  1.38571163]\n",
      " [ 0.57344808 -1.00235039 -1.62405546  1.32745348  0.29718438]]\n"
     ]
    }
   ],
   "source": [
    "import numpy as np\n",
    "\n",
    "X = np.random.random((5,5))\n",
    "STD = X.std()\n",
    "M = X.mean()\n",
    "W = (X - M)\n",
    "Z = W/STD\n",
    "\n",
    "print(\"Normal Array: \\n\", X)\n",
    "print(\"Normalized Array: \\n\", Z)"
   ]
  }
 ],
 "metadata": {
  "kernelspec": {
   "display_name": "Python [conda env:base] *",
   "language": "python",
   "name": "conda-base-py"
  },
  "language_info": {
   "codemirror_mode": {
    "name": "ipython",
    "version": 3
   },
   "file_extension": ".py",
   "mimetype": "text/x-python",
   "name": "python",
   "nbconvert_exporter": "python",
   "pygments_lexer": "ipython3",
   "version": "3.13.5"
  }
 },
 "nbformat": 4,
 "nbformat_minor": 5
}
